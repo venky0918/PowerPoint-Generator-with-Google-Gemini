{
  "cells": [
    {
      "cell_type": "markdown",
      "metadata": {
        "id": "Vhz1Zm1cr6Gh"
      },
      "source": [
        "# PowerPoint Generator with Google Gemini\n",
        "\n",
        "This notebook demonstrates how to create PowerPoint presentations using Google's Gemini AI. The generator can create engaging presentations on any topic with proper formatting and structure."
      ]
    },
    {
      "cell_type": "code",
      "execution_count": null,
      "metadata": {
        "colab": {
          "base_uri": "https://localhost:8080/"
        },
        "id": "0e9ShRuxr6Gj",
        "outputId": "70a54e75-bb29-4aa8-d4f7-2378864e2417"
      },
      "outputs": [
        {
          "output_type": "stream",
          "name": "stdout",
          "text": [
            "Requirement already satisfied: google-generativeai in /usr/local/lib/python3.11/dist-packages (0.8.5)\n",
            "Collecting python-pptx\n",
            "  Downloading python_pptx-1.0.2-py3-none-any.whl.metadata (2.5 kB)\n",
            "Requirement already satisfied: Pillow in /usr/local/lib/python3.11/dist-packages (11.3.0)\n",
            "Requirement already satisfied: requests in /usr/local/lib/python3.11/dist-packages (2.32.3)\n",
            "Collecting python-dotenv\n",
            "  Downloading python_dotenv-1.1.1-py3-none-any.whl.metadata (24 kB)\n",
            "Requirement already satisfied: google-ai-generativelanguage==0.6.15 in /usr/local/lib/python3.11/dist-packages (from google-generativeai) (0.6.15)\n",
            "Requirement already satisfied: google-api-core in /usr/local/lib/python3.11/dist-packages (from google-generativeai) (2.25.1)\n",
            "Requirement already satisfied: google-api-python-client in /usr/local/lib/python3.11/dist-packages (from google-generativeai) (2.177.0)\n",
            "Requirement already satisfied: google-auth>=2.15.0 in /usr/local/lib/python3.11/dist-packages (from google-generativeai) (2.38.0)\n",
            "Requirement already satisfied: protobuf in /usr/local/lib/python3.11/dist-packages (from google-generativeai) (5.29.5)\n",
            "Requirement already satisfied: pydantic in /usr/local/lib/python3.11/dist-packages (from google-generativeai) (2.11.7)\n",
            "Requirement already satisfied: tqdm in /usr/local/lib/python3.11/dist-packages (from google-generativeai) (4.67.1)\n",
            "Requirement already satisfied: typing-extensions in /usr/local/lib/python3.11/dist-packages (from google-generativeai) (4.14.1)\n",
            "Requirement already satisfied: proto-plus<2.0.0dev,>=1.22.3 in /usr/local/lib/python3.11/dist-packages (from google-ai-generativelanguage==0.6.15->google-generativeai) (1.26.1)\n",
            "Collecting XlsxWriter>=0.5.7 (from python-pptx)\n",
            "  Downloading xlsxwriter-3.2.5-py3-none-any.whl.metadata (2.7 kB)\n",
            "Requirement already satisfied: lxml>=3.1.0 in /usr/local/lib/python3.11/dist-packages (from python-pptx) (5.4.0)\n",
            "Requirement already satisfied: charset-normalizer<4,>=2 in /usr/local/lib/python3.11/dist-packages (from requests) (3.4.2)\n",
            "Requirement already satisfied: idna<4,>=2.5 in /usr/local/lib/python3.11/dist-packages (from requests) (3.10)\n",
            "Requirement already satisfied: urllib3<3,>=1.21.1 in /usr/local/lib/python3.11/dist-packages (from requests) (2.5.0)\n",
            "Requirement already satisfied: certifi>=2017.4.17 in /usr/local/lib/python3.11/dist-packages (from requests) (2025.7.14)\n",
            "Requirement already satisfied: googleapis-common-protos<2.0.0,>=1.56.2 in /usr/local/lib/python3.11/dist-packages (from google-api-core->google-generativeai) (1.70.0)\n",
            "Requirement already satisfied: cachetools<6.0,>=2.0.0 in /usr/local/lib/python3.11/dist-packages (from google-auth>=2.15.0->google-generativeai) (5.5.2)\n",
            "Requirement already satisfied: pyasn1-modules>=0.2.1 in /usr/local/lib/python3.11/dist-packages (from google-auth>=2.15.0->google-generativeai) (0.4.2)\n",
            "Requirement already satisfied: rsa<5,>=3.1.4 in /usr/local/lib/python3.11/dist-packages (from google-auth>=2.15.0->google-generativeai) (4.9.1)\n",
            "Requirement already satisfied: httplib2<1.0.0,>=0.19.0 in /usr/local/lib/python3.11/dist-packages (from google-api-python-client->google-generativeai) (0.22.0)\n",
            "Requirement already satisfied: google-auth-httplib2<1.0.0,>=0.2.0 in /usr/local/lib/python3.11/dist-packages (from google-api-python-client->google-generativeai) (0.2.0)\n",
            "Requirement already satisfied: uritemplate<5,>=3.0.1 in /usr/local/lib/python3.11/dist-packages (from google-api-python-client->google-generativeai) (4.2.0)\n",
            "Requirement already satisfied: annotated-types>=0.6.0 in /usr/local/lib/python3.11/dist-packages (from pydantic->google-generativeai) (0.7.0)\n",
            "Requirement already satisfied: pydantic-core==2.33.2 in /usr/local/lib/python3.11/dist-packages (from pydantic->google-generativeai) (2.33.2)\n",
            "Requirement already satisfied: typing-inspection>=0.4.0 in /usr/local/lib/python3.11/dist-packages (from pydantic->google-generativeai) (0.4.1)\n",
            "Requirement already satisfied: grpcio<2.0.0,>=1.33.2 in /usr/local/lib/python3.11/dist-packages (from google-api-core[grpc]!=2.0.*,!=2.1.*,!=2.10.*,!=2.2.*,!=2.3.*,!=2.4.*,!=2.5.*,!=2.6.*,!=2.7.*,!=2.8.*,!=2.9.*,<3.0.0dev,>=1.34.1->google-ai-generativelanguage==0.6.15->google-generativeai) (1.73.1)\n",
            "Requirement already satisfied: grpcio-status<2.0.0,>=1.33.2 in /usr/local/lib/python3.11/dist-packages (from google-api-core[grpc]!=2.0.*,!=2.1.*,!=2.10.*,!=2.2.*,!=2.3.*,!=2.4.*,!=2.5.*,!=2.6.*,!=2.7.*,!=2.8.*,!=2.9.*,<3.0.0dev,>=1.34.1->google-ai-generativelanguage==0.6.15->google-generativeai) (1.71.2)\n",
            "Requirement already satisfied: pyparsing!=3.0.0,!=3.0.1,!=3.0.2,!=3.0.3,<4,>=2.4.2 in /usr/local/lib/python3.11/dist-packages (from httplib2<1.0.0,>=0.19.0->google-api-python-client->google-generativeai) (3.2.3)\n",
            "Requirement already satisfied: pyasn1<0.7.0,>=0.6.1 in /usr/local/lib/python3.11/dist-packages (from pyasn1-modules>=0.2.1->google-auth>=2.15.0->google-generativeai) (0.6.1)\n",
            "Downloading python_pptx-1.0.2-py3-none-any.whl (472 kB)\n",
            "\u001b[2K   \u001b[90m━━━━━━━━━━━━━━━━━━━━━━━━━━━━━━━━━━━━━━━━\u001b[0m \u001b[32m472.8/472.8 kB\u001b[0m \u001b[31m22.9 MB/s\u001b[0m eta \u001b[36m0:00:00\u001b[0m\n",
            "\u001b[?25hDownloading python_dotenv-1.1.1-py3-none-any.whl (20 kB)\n",
            "Downloading xlsxwriter-3.2.5-py3-none-any.whl (172 kB)\n",
            "\u001b[2K   \u001b[90m━━━━━━━━━━━━━━━━━━━━━━━━━━━━━━━━━━━━━━━━\u001b[0m \u001b[32m172.3/172.3 kB\u001b[0m \u001b[31m14.4 MB/s\u001b[0m eta \u001b[36m0:00:00\u001b[0m\n",
            "\u001b[?25hInstalling collected packages: XlsxWriter, python-dotenv, python-pptx\n",
            "Successfully installed XlsxWriter-3.2.5 python-dotenv-1.1.1 python-pptx-1.0.2\n"
          ]
        }
      ],
      "source": [
        "# Install required packages\n",
        "!pip install google-generativeai python-pptx Pillow requests python-dotenv"
      ]
    },
    {
      "cell_type": "code",
      "execution_count": null,
      "metadata": {
        "colab": {
          "base_uri": "https://localhost:8080/"
        },
        "id": "b1z_J83Rr6Gk",
        "outputId": "d00d6750-58af-4fd0-cb7c-9e8107c48256"
      },
      "outputs": [
        {
          "output_type": "stream",
          "name": "stdout",
          "text": [
            "✅ All imports successful!\n"
          ]
        }
      ],
      "source": [
        "import os\n",
        "import google.generativeai as genai\n",
        "from pptx import Presentation\n",
        "from pptx.util import Inches, Pt\n",
        "from pptx.enum.text import PP_ALIGN\n",
        "from pptx.dml.color import RGBColor\n",
        "import requests\n",
        "from PIL import Image\n",
        "import io\n",
        "from dotenv import load_dotenv\n",
        "import json\n",
        "\n",
        "# Load environment variables\n",
        "load_dotenv()\n",
        "\n",
        "print(\"✅ All imports successful!\")"
      ]
    },
    {
      "cell_type": "code",
      "execution_count": null,
      "metadata": {
        "colab": {
          "base_uri": "https://localhost:8080/"
        },
        "id": "M-oojL0Qr6Gk",
        "outputId": "07991546-a6bd-4482-eead-7896d4f86b39"
      },
      "outputs": [
        {
          "output_type": "stream",
          "name": "stdout",
          "text": [
            "✅ PPTGenerator class defined successfully!\n"
          ]
        }
      ],
      "source": [
        "class PPTGenerator:\n",
        "    def __init__(self, api_key=None):\n",
        "        \"\"\"Initialize the PPT Generator with Gemini API\"\"\"\n",
        "        self.api_key = api_key or os.getenv('GEMINI_API_KEY')\n",
        "        if not self.api_key:\n",
        "            raise ValueError(\"Gemini API key is required. Set GEMINI_API_KEY environment variable or pass it to the constructor.\")\n",
        "\n",
        "        # Configure Gemini\n",
        "        genai.configure(api_key=self.api_key)\n",
        "        self.model = genai.GenerativeModel('gemini-2.5-pro')\n",
        "        self.model_vision = genai.GenerativeModel('gemini-2.5-pro')\n",
        "\n",
        "        # Initialize presentation\n",
        "        self.presentation = Presentation()\n",
        "\n",
        "    def generate_content_outline(self, topic, num_slides=5):\n",
        "        \"\"\"Generate content outline using Gemini\"\"\"\n",
        "        prompt = f\"\"\"\n",
        "        Create a detailed outline for a PowerPoint presentation on \"{topic}\" with {num_slides} slides.\n",
        "        Return the response as a JSON array with the following structure:\n",
        "        [\n",
        "            {{\n",
        "                \"title\": \"Slide Title\",\n",
        "                \"content\": \"Main content points as bullet points\",\n",
        "                \"slide_type\": \"title|content|image|conclusion\"\n",
        "            }}\n",
        "        ]\n",
        "\n",
        "        Make sure the content is engaging, informative, and well-structured.\n",
        "        The response must be a valid JSON array.\n",
        "        \"\"\"\n",
        "\n",
        "        try:\n",
        "            response = self.model.generate_content(prompt)\n",
        "            content = response.text.strip()\n",
        "\n",
        "            # Handle potential markdown code block\n",
        "            if \"```json\" in content:\n",
        "                content = content.split(\"```json\")[1].split(\"```\")[0].strip()\n",
        "            elif \"```\" in content:\n",
        "                content = content.split(\"```\")[1].strip()\n",
        "\n",
        "            # Ensure we have a valid JSON string\n",
        "            if not content.startswith('[') or not content.endswith(']'):\n",
        "                print(\"Invalid JSON format received. Using fallback outline.\")\n",
        "                return self._get_fallback_outline(topic, num_slides)\n",
        "\n",
        "            try:\n",
        "                return json.loads(content)\n",
        "            except json.JSONDecodeError as je:\n",
        "                print(f\"JSON parsing error: {je}\")\n",
        "                return self._get_fallback_outline(topic, num_slides)\n",
        "\n",
        "        except Exception as e:\n",
        "            print(f\"Error generating content: {e}\")\n",
        "            return self._get_fallback_outline(topic, num_slides)\n",
        "\n",
        "    def _get_fallback_outline(self, topic, num_slides):\n",
        "        \"\"\"Fallback outline if Gemini fails\"\"\"\n",
        "        return [\n",
        "            {\n",
        "                \"title\": f\"Introduction to {topic}\",\n",
        "                \"content\": \"• Overview of the topic\\n• Key objectives\\n• What to expect\",\n",
        "                \"slide_type\": \"title\"\n",
        "            },\n",
        "            {\n",
        "                \"title\": \"Background Information\",\n",
        "                \"content\": \"• Historical context\\n• Current state\\n• Important facts\",\n",
        "                \"slide_type\": \"content\"\n",
        "            },\n",
        "            {\n",
        "                \"title\": \"Key Concepts\",\n",
        "                \"content\": \"• Main principles\\n• Core ideas\\n• Essential knowledge\",\n",
        "                \"slide_type\": \"content\"\n",
        "            },\n",
        "            {\n",
        "                \"title\": \"Applications and Examples\",\n",
        "                \"content\": \"• Real-world applications\\n• Case studies\\n• Practical examples\",\n",
        "                \"slide_type\": \"content\"\n",
        "            },\n",
        "            {\n",
        "                \"title\": \"Conclusion\",\n",
        "                \"content\": \"• Summary of key points\\n• Final thoughts\\n• Next steps\",\n",
        "                \"slide_type\": \"conclusion\"\n",
        "            }\n",
        "        ]\n",
        "\n",
        "    def generate_image_description(self, slide_content):\n",
        "        \"\"\"Generate image description for slides using Gemini\"\"\"\n",
        "        prompt = f\"\"\"\n",
        "        Based on this slide content, suggest a relevant image description that would enhance the presentation:\n",
        "\n",
        "        {slide_content}\n",
        "\n",
        "        Return only a brief, descriptive phrase suitable for image search (max 10 words).\n",
        "        \"\"\"\n",
        "\n",
        "        try:\n",
        "            response = self.model.generate_content(prompt)\n",
        "            return response.text.strip()\n",
        "        except:\n",
        "            return \"professional presentation\"\n",
        "\n",
        "    def download_image(self, query, save_path=\"temp_image.jpg\"):\n",
        "        \"\"\"Download a relevant image from Pexels based on the query\"\"\"\n",
        "        try:\n",
        "            # Pexels API endpoint\n",
        "            url = \"https://api.pexels.com/v1/search\"\n",
        "\n",
        "            # Headers with API key\n",
        "            headers = {\n",
        "                'Authorization': ''\n",
        "            }\n",
        "\n",
        "            # Search parameters\n",
        "            params = {\n",
        "                'query': query,\n",
        "                'per_page': 1,\n",
        "                'orientation': 'landscape'\n",
        "            }\n",
        "\n",
        "            # Get search results\n",
        "            response = requests.get(url, headers=headers, params=params)\n",
        "            response.raise_for_status()\n",
        "\n",
        "            # Parse response\n",
        "            data = response.json()\n",
        "            if not data.get('photos'):\n",
        "                raise ValueError(f\"No images found for query: {query}\")\n",
        "\n",
        "            # Get the first photo's original size URL\n",
        "            image_url = data['photos'][0]['src']['original']\n",
        "\n",
        "            # Download the image\n",
        "            img_response = requests.get(image_url)\n",
        "            img_response.raise_for_status()\n",
        "\n",
        "            # Save the image\n",
        "            with open(save_path, 'wb') as f:\n",
        "                f.write(img_response.content)\n",
        "\n",
        "            return save_path\n",
        "\n",
        "        except Exception as e:\n",
        "            print(f\"Error downloading image: {e}\")\n",
        "            # Fallback to placeholder if there's an error\n",
        "            try:\n",
        "                img = Image.new('RGB', (800, 600), color='#4A90E2')\n",
        "                img.save(save_path)\n",
        "                return save_path\n",
        "            except Exception as e:\n",
        "                print(f\"Error creating placeholder image: {e}\")\n",
        "                return None\n",
        "\n",
        "    def create_title_slide(self, title, subtitle=\"\"):\n",
        "        \"\"\"Create a title slide\"\"\"\n",
        "        slide_layout = self.presentation.slide_layouts[0]  # Title slide layout\n",
        "        slide = self.presentation.slides.add_slide(slide_layout)\n",
        "\n",
        "        # Set title\n",
        "        title_shape = slide.shapes.title\n",
        "        title_shape.text = title\n",
        "        title_shape.text_frame.paragraphs[0].font.size = Pt(44)\n",
        "        title_shape.text_frame.paragraphs[0].font.bold = True\n",
        "        title_shape.text_frame.paragraphs[0].alignment = PP_ALIGN.CENTER\n",
        "\n",
        "        # Set subtitle if provided\n",
        "        if subtitle:\n",
        "            subtitle_shape = slide.placeholders[1]\n",
        "            subtitle_shape.text = subtitle\n",
        "            subtitle_shape.text_frame.paragraphs[0].font.size = Pt(24)\n",
        "            subtitle_shape.text_frame.paragraphs[0].alignment = PP_ALIGN.CENTER\n",
        "\n",
        "        return slide\n",
        "\n",
        "    def create_content_slide(self, title, content, include_image=False):\n",
        "        \"\"\"Create a content slide with bullet points\"\"\"\n",
        "        slide_layout = self.presentation.slide_layouts[1]  # Title and content layout\n",
        "        slide = self.presentation.slides.add_slide(slide_layout)\n",
        "\n",
        "        # Set title\n",
        "        title_shape = slide.shapes.title\n",
        "        title_shape.text = title\n",
        "        title_shape.text_frame.paragraphs[0].font.size = Pt(36)\n",
        "        title_shape.text_frame.paragraphs[0].font.bold = True\n",
        "\n",
        "        # Set content\n",
        "        content_shape = slide.placeholders[1]\n",
        "        content_shape.text = content\n",
        "\n",
        "        # Format bullet points\n",
        "        text_frame = content_shape.text_frame\n",
        "        for paragraph in text_frame.paragraphs:\n",
        "            paragraph.font.size = Pt(18)\n",
        "            paragraph.font.color.rgb = RGBColor(51, 51, 51)\n",
        "\n",
        "        # Add image if requested\n",
        "        if include_image:\n",
        "            try:\n",
        "                image_desc = self.generate_image_description(content)\n",
        "                image_path = self.download_image(image_desc)\n",
        "                if image_path and os.path.exists(image_path):\n",
        "                    slide.shapes.add_picture(image_path, Inches(6), Inches(2), height=Inches(4))\n",
        "                    # Clean up temporary image\n",
        "                    os.remove(image_path)\n",
        "            except Exception as e:\n",
        "                print(f\"Error adding image: {e}\")\n",
        "\n",
        "        return slide\n",
        "\n",
        "    def create_image_slide(self, title, content, image_query):\n",
        "        \"\"\"Create a slide with image and text\"\"\"\n",
        "        slide_layout = self.presentation.slide_layouts[8]  # Blank layout\n",
        "        slide = self.presentation.slides.add_slide(slide_layout)\n",
        "\n",
        "        # Add title\n",
        "        title_box = slide.shapes.add_textbox(Inches(0.5), Inches(0.5), Inches(9), Inches(1))\n",
        "        title_frame = title_box.text_frame\n",
        "        title_frame.text = title\n",
        "        title_frame.paragraphs[0].font.size = Pt(36)\n",
        "        title_frame.paragraphs[0].font.bold = True\n",
        "        title_frame.paragraphs[0].alignment = PP_ALIGN.CENTER\n",
        "\n",
        "        # Add content\n",
        "        content_box = slide.shapes.add_textbox(Inches(0.5), Inches(2), Inches(4), Inches(5))\n",
        "        content_frame = content_box.text_frame\n",
        "        content_frame.text = content\n",
        "\n",
        "        # Format content\n",
        "        for paragraph in content_frame.paragraphs:\n",
        "            paragraph.font.size = Pt(18)\n",
        "            paragraph.font.color.rgb = RGBColor(51, 51, 51)\n",
        "\n",
        "        # Add image\n",
        "        try:\n",
        "            image_path = self.download_image(image_query)\n",
        "            if image_path and os.path.exists(image_path):\n",
        "                slide.shapes.add_picture(image_path, Inches(5), Inches(2), height=Inches(5))\n",
        "                os.remove(image_path)\n",
        "        except Exception as e:\n",
        "            print(f\"Error adding image: {e}\")\n",
        "\n",
        "        return slide\n",
        "\n",
        "    def generate_presentation(self, topic, num_slides=5, output_path=\"generated_presentation.pptx\"):\n",
        "        \"\"\"Generate a complete PowerPoint presentation\"\"\"\n",
        "        print(f\"Generating presentation on: {topic}\")\n",
        "\n",
        "        # Generate content outline\n",
        "        outline = self.generate_content_outline(topic, num_slides)\n",
        "\n",
        "        # Create slides based on outline\n",
        "        for i, slide_data in enumerate(outline):\n",
        "            title = slide_data[\"title\"]\n",
        "            content = slide_data[\"content\"]\n",
        "            slide_type = slide_data[\"slide_type\"]\n",
        "\n",
        "            print(f\"Creating slide {i+1}: {title}\")\n",
        "\n",
        "            if i == 0 or slide_type == \"title\":\n",
        "                self.create_title_slide(title, f\"Generated by Gemini AI\")\n",
        "            elif slide_type == \"image\":\n",
        "                image_query = self.generate_image_description(content)\n",
        "                self.create_image_slide(title, content, image_query)\n",
        "            else:\n",
        "                include_image = (i % 3 == 0)  # Add image every 3rd slide\n",
        "                self.create_content_slide(title, content, include_image)\n",
        "\n",
        "        # Save presentation\n",
        "        self.presentation.save(output_path)\n",
        "        print(f\"Presentation saved as: {output_path}\")\n",
        "\n",
        "        return output_path\n",
        "\n",
        "print(\"✅ PPTGenerator class defined successfully!\")"
      ]
    },
    {
      "cell_type": "markdown",
      "metadata": {
        "id": "CB24aIecr6Gm"
      },
      "source": [
        "## Setup Gemini API Key\n",
        "\n",
        "You need to set up your Gemini API key. You can either:\n",
        "1. Create a `.env` file with `GEMINI_API_KEY=your_api_key_here`\n",
        "2. Set it directly in the code below\n",
        "\n",
        "Get your API key from: https://makersuite.google.com/app/apikey"
      ]
    },
    {
      "cell_type": "code",
      "execution_count": null,
      "metadata": {
        "colab": {
          "base_uri": "https://localhost:8080/"
        },
        "id": "nmH_WVm9r6Gm",
        "outputId": "852aa770-6d72-4712-9f19-362733bcc534"
      },
      "outputs": [
        {
          "output_type": "stream",
          "name": "stdout",
          "text": [
            "✅ Gemini API key is configured\n"
          ]
        }
      ],
      "source": [
        "api_key = \"\"\n",
        "if api_key:\n",
        "    print(\"✅ Gemini API key is configured\")\n",
        "else:\n",
        "    print(\"❌ Please set your GEMINI_API_KEY in the .env file or uncomment the line above\")"
      ]
    },
    {
      "cell_type": "markdown",
      "metadata": {
        "id": "V6a0pMW2r6Gn"
      },
      "source": [
        "## Generate a Presentation\n",
        "\n",
        "Now let's create a presentation! You can change the topic and number of slides as needed."
      ]
    },
    {
      "cell_type": "code",
      "execution_count": null,
      "metadata": {
        "colab": {
          "base_uri": "https://localhost:8080/"
        },
        "id": "MCkAv12Mr6Gn",
        "outputId": "9d62d50f-780a-4661-d109-d5bafb42d9c2"
      },
      "outputs": [
        {
          "output_type": "stream",
          "name": "stdout",
          "text": [
            "✅ PPT Generator initialized successfully!\n"
          ]
        }
      ],
      "source": [
        "# Initialize the generator\n",
        "try:\n",
        "    generator = PPTGenerator(api_key=api_key)\n",
        "    print(\"✅ PPT Generator initialized successfully!\")\n",
        "except ValueError as e:\n",
        "    print(f\"❌ Error: {e}\")\n",
        "    print(\"Please set your GEMINI_API_KEY first.\")"
      ]
    },
    {
      "cell_type": "code",
      "execution_count": null,
      "metadata": {
        "colab": {
          "base_uri": "https://localhost:8080/",
          "height": 160
        },
        "id": "MnmrBD7Fr6Gn",
        "outputId": "ad30a0ed-7b37-47b0-c41b-b6c3bfa28e4b"
      },
      "outputs": [
        {
          "output_type": "stream",
          "name": "stdout",
          "text": [
            "Generating presentation on: Artificial Intelligence in Healthcare\n",
            "Creating slide 1: Artificial Intelligence in Healthcare: Revolutionizing Patient Care\n",
            "Creating slide 2: What is AI in Healthcare?\n",
            "Creating slide 3: Key Applications: From Diagnosis to Drug Discovery\n",
            "Creating slide 4: Major Benefits and Advantages\n",
            "Creating slide 5: Hurdles to Overcome: Challenges & Ethics\n",
            "Creating slide 6: The Future of AI in Medicine & Conclusion\n",
            "Presentation saved as: ai_healthcare_presentation.pptx\n"
          ]
        }
      ],
      "source": [
        "# Generate a presentation\n",
        "topic = \"Artificial Intelligence in Healthcare\"  # Change this to your desired topic\n",
        "num_slides = 6  # Change this to your desired number of slides\n",
        "\n",
        "try:\n",
        "    output_file = generator.generate_presentation(topic, num_slides, \"ai_healthcare_presentation.pptx\")\n",
        "except Exception as e:\n",
        "    print(e)"
      ]
    }
  ],
  "metadata": {
    "kernelspec": {
      "display_name": "Python 3",
      "language": "python",
      "name": "python3"
    },
    "language_info": {
      "codemirror_mode": {
        "name": "ipython",
        "version": 3
      },
      "file_extension": ".py",
      "mimetype": "text/x-python",
      "name": "python",
      "nbconvert_exporter": "python",
      "pygments_lexer": "ipython3",
      "version": "3.8.5"
    },
    "colab": {
      "provenance": []
    }
  },
  "nbformat": 4,
  "nbformat_minor": 0
}